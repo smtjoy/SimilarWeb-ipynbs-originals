{
 "cells": [
  {
   "cell_type": "code",
   "execution_count": 1,
   "metadata": {
    "collapsed": true
   },
   "outputs": [],
   "source": [
    "import webbrowser\n",
    "import pandas as pd\n",
    "import numpy as np\n",
    "import os\n",
    "import datetime\n",
    "import glob\n",
    "import xlsxwriter\n",
    "\n",
    "#Note: need to log in to SimilarWeb Pro in browser before running\n",
    "#accesses SimilarWeb urls for the domains of interest which download the last 28 days of daily SimilarWeb visits data\n",
    "#creates a list of lists with length 5\n",
    "#webgroup2 = [['bahn.com'],['bahn.de','blablacar.es'],['busliniensuche.de']]\n",
    "#webgroup1 = [\"amtrak.com\",\"amtrakvacations.com\",\"bahn.com\",\"bahn.de\",\"blablacar.es\",\"busliniensuche.de\",\"capitainetrain.com\",\"captaintrain.com\",\"checkmybus.de\",\"deutschebahn.com\",\"eurail.com\",\"eurorailways.com\",\"eurotunnel.com\",\"expedia.co.uk\",\"expedia.com\",\"flixbus.at\",\"flixbus.co.uk\",\"flixbus.com\",\"flixbus.de\",\"flixbus.es\",\"flixbus.fr\",\"flixbus.it\",\"flixbus.nl\",\"fromatob.de\",\"goeuro.ad\",\"goeuro.al\",\"goeuro.au\",\"goeuro.ba\",\"goeuro.be\",\"goeuro.bg\",\"goeuro.by\",\"goeuro.co.uk\",\"goeuro.com\",\"cn.goeuro.com\",\"goeuro.cz\",\"goeuro.de\",\"goeuro.ee\",\"goeuro.es\",\"goeuro.eu\",\"goeuro.fi\",\"goeuro.fr\",\"goeuro.gb\",\"goeuro.gg\",\"goeuro.gr\",\"goeuro.hr\",\"goeuro.hu\",\"goeuro.im\",\"goeuro.is\",\"goeuro.it\",\"goeuro.je\",\"goeuro.lu\",\"goeuro.nl\",\"goeuro.no\",\"goeuro.pl\",\"goeuro.pt\",\"goeuro.rs\",\"ru.goeuro.com\",\"goeuro.se\",\"goeuro.si\",\"goeuro.sk\",\"goeuro.tr\",\"goeuro.us\",\"great-western-trains.co.uk\",\"gwr.com\",\"italiarail.com\",\"italotreno.it\",\"loco2.com\",\"ltur.de\",\"nationalrail.co.uk\",\"ouigo.com\",\"oui.sncf\",\"raileurope.com\",\"raileurope.fr\",\"raileurope-japan.com\",\"raileurope-world.com\",\"redspottedhanky.com\",\"renfe.com\",\"renfe.es\",\"rome2rio.com\",\"skyscanner.net\",\"skyscanner.com\",\"skyscanner.fr\",\"skyscanner.it\",\"skyscanner.de\",\"skyscanner.es\",\"skyscanner.ru\",\"skyscanner.pl\",\"skyscanner.com.cn\",\"skyscanner.pt\",\"skyscanner.be\",\"skyscanner.cz\",\"skyscanner.at\",\"skyscanner.com.tw\",\"skyscanner.com.tr\",\"sncf.com\",\"splityourticket.co.uk\",\"thetrainline.com\",\"thetrainline-europe.com\",\"ticketclever.com\",\"traingenius.com\",\"trainline.cn\",\"trainline.com\",\"trainline.de\",\"trainline.es\",\"trainline.eu\",\"trainline.fr\",\"trainline.it\",\"trainline.se\",\"trainline.pl\",\"transilien.com\",\"trenit.info\",\"trenitalia.com\",\"verkehrsmittelvergleich.de\",\"virail.it\",\"virgintrains.co.uk\",\"virgintrainseastcoast.com\",\"voyages-sncf.com\",\"voyages-sncf.de\",\"voyages-sncf.fr\",\"wanderu.com\",\"trainline.cz\",\"trainline.com.pt\",\"trainline.no\",\"trainline.nl\",\"trainline.dk\",\"trainline.com.br\",\"trainline.ch\",\"trainline.at\",\"it.trainline.ch\",\"de.trainline.ch\",\"fr.trainline.ch\",\"goeuro.at\",\"goeuro.dk\",\"goeuro.ch\",\"skyscanner.nl\",\"skyscanner.ch\",\"skyscanner.at\",\"de.oui.sncf\",\"flixtrain.com\",\"goeuro.com.tr\",\"just-eat.co.uk\",\"just-eat.com\",\"menulog.com.au\",\"ifood.com.br\",\"just-eat.ca\",\"just-eat.dk\",\"just-eat.fr\",\"just-eat.ie\",\"justeat.it\",\"sindelantal.mx\",\"just-eat.no\",\"menulog.co.nz\",\"just-eat.es\",\"eat.ch\",\"raileurope.com.au\",\"raileurope-asean.com\",\"raileurope.ca\",\"raileurope.cn\",\"raileurope.co.in\",\"raileurope.co.nz\",\"raileurope.ru\",\"raileurope.co.za\",\"raileurope.co.kr\",\"raileurope-gcc.com\"]\n",
    "#webgroup1 = [\"amtrak.com\",\"amtrakvacations.com\",\"bahn.com\",\"bahn.de\",\"blablacar.es\",\"busliniensuche.de\",\"capitainetrain.com\",\"captaintrain.com\",\"checkmybus.de\",\"cn.goeuro.com\",\"de.oui.sncf\",\"de.trainline.ch\",\"deutschebahn.com\",\"eat.ch\",\"eurail.com\",\"eurorailways.com\",\"eurotunnel.com\",\"expedia.co.uk\",\"expedia.com\",\"flixbus.at\",\"flixbus.co.uk\",\"flixbus.com\",\"flixbus.de\",\"flixbus.es\",\"flixbus.fr\",\"flixbus.it\",\"flixbus.nl\",\"flixtrain.com\",\"fr.trainline.ch\",\"fromatob.de\",\"goeuro.ad\",\"goeuro.al\",\"goeuro.at\",\"goeuro.au\",\"goeuro.ba\",\"goeuro.be\",\"goeuro.bg\",\"goeuro.by\",\"goeuro.ch\",\"goeuro.co.uk\",\"goeuro.com\",\"goeuro.com.tr\",\"goeuro.com.ua\",\"goeuro.cz\",\"goeuro.de\",\"goeuro.dk\",\"goeuro.ee\",\"goeuro.es\",\"goeuro.eu\",\"goeuro.fi\",\"goeuro.fr\",\"goeuro.gb\",\"goeuro.gg\",\"goeuro.gr\",\"goeuro.hr\",\"goeuro.hu\",\"goeuro.im\",\"goeuro.is\",\"goeuro.it\",\"goeuro.je\",\"goeuro.lu\",\"goeuro.nl\",\"goeuro.no\",\"goeuro.pl\",\"goeuro.pt\",\"goeuro.rs\",\"goeuro.se\",\"goeuro.si\",\"goeuro.sk\",\"goeuro.tr\",\"goeuro.us\",\"great-western-trains.co.uk\",\"gwr.com\",\"ifood.com.br\",\"it.trainline.ch\",\"italiarail.com\",\"italotreno.it\",\"just-eat.ca\",\"just-eat.co.uk\",\"just-eat.com\",\"just-eat.dk\",\"just-eat.es\",\"just-eat.fr\",\"just-eat.ie\",\"justeat.it\",\"just-eat.no\",\"loco2.com\",\"ltur.de\",\"menulog.co.nz\",\"menulog.com.au\",\"nationalrail.co.uk\",\"oui.sncf\",\"ouigo.com\",\"raileurope.ca\",\"raileurope.cn\",\"raileurope.co.in\",\"raileurope.co.kr\",\"raileurope.co.nz\",\"raileurope.co.za\",\"raileurope.com\",\"raileurope.com.au\",\"raileurope.fr\",\"raileurope.ru\",\"raileurope-asean.com\",\"raileurope-gcc.com\",\"raileurope-japan.com\",\"raileurope-world.com\",\"redspottedhanky.com\",\"renfe.com\",\"renfe.es\",\"rome2rio.com\",\"ru.goeuro.com\",\"sindelantal.mx\",\"skyscanner.at\",\"skyscanner.be\",\"skyscanner.ch\",\"skyscanner.com\",\"skyscanner.com.cn\",\"skyscanner.com.tr\",\"skyscanner.com.tw\",\"skyscanner.cz\",\"skyscanner.de\",\"skyscanner.es\",\"skyscanner.fr\",\"skyscanner.it\",\"skyscanner.net\",\"skyscanner.nl\",\"skyscanner.pl\",\"skyscanner.pt\",\"skyscanner.ru\",\"sncf.com\",\"splityourticket.co.uk\",\"thetrainline.com\",\"thetrainline-europe.com\",\"ticketclever.com\",\"traingenius.com\",\"trainline.at\",\"trainline.ch\",\"trainline.cn\",\"trainline.com\",\"trainline.com.br\",\"trainline.com.pt\",\"trainline.cz\",\"trainline.de\",\"trainline.dk\",\"trainline.es\",\"trainline.eu\",\"trainline.fr\",\"trainline.it\",\"trainline.nl\",\"trainline.no\",\"trainline.pl\",\"trainline.se\",\"transilien.com\",\"trenit.info\",\"trenitalia.com\",\"verkehrsmittelvergleich.de\",\"virail.it\",\"virgintrains.co.uk\",\"virgintrainseastcoast.com\",\"voyages-sncf.com\",\"voyages-sncf.de\",\"voyages-sncf.fr\",\"wanderu.com\",\"omio.co.uk\",\"omio.com.ua\",\"cz.omio.com\",\"de.omio.com\",\"omio.dk\",\"omio.es\",\"omio.fi\",\"omio.fr\",\"hu.omio.com\",\"omio.it\",\"omio.nl\",\"omio.no\",\"pl.omio.com\",\"omio.pt\",\"omio.se\",\"tr.omio.com\",\"omio.ru\",\"omio.cn\",\"omio.com\"]\n",
    "#webgroup1 = [\"omio.co.uk\",\"omio.com.ua\",\"cz.omio.com\",\"de.omio.com\",\"omio.dk\",\"omio.es\",\"omio.fi\",\"omio.fr\",\"hu.omio.com\",\"omio.it\",\"omio.nl\",\"omio.no\",\"pl.omio.com\",\"omio.pt\",\"omio.se\",\"tr.omio.com\",\"omio.ru\",\"omio.cn\",\"omio.com\"]\n",
    "#webgroup1 = [\"lner.co.uk\",\"crosscountrytrains.co.uk\",\"eastmidlandstrains.co.uk\",\"tpexpress.co.uk\",\"northernrailway.co.uk\",\"greateranglia.co.uk\",\"seat61.com\",\"rome2rio.com\",\"getasnap.com\",\"raileasy.co.uk\",\"southernrailway.com\",\"tfwrail.wales\",\"southwesternrailway.com\"]\n",
    "webgroup1 = [\"cn.goeuro.com\",\"goeuro.ad\",\"goeuro.al\",\"goeuro.at\",\"goeuro.au\",\"goeuro.ba\",\"goeuro.be\",\"goeuro.bg\",\"goeuro.by\",\"goeuro.ch\",\"goeuro.co.uk\",\"goeuro.com\",\"goeuro.com.tr\",\"goeuro.com.ua\",\"goeuro.cz\",\"goeuro.de\",\"goeuro.dk\",\"goeuro.ee\",\"goeuro.es\",\"goeuro.eu\",\"goeuro.fi\",\"goeuro.fr\",\"goeuro.gb\",\"goeuro.gg\",\"goeuro.gr\",\"goeuro.hr\",\"goeuro.hu\",\"goeuro.im\",\"goeuro.is\",\"goeuro.it\",\"goeuro.je\",\"goeuro.lu\",\"goeuro.nl\",\"goeuro.no\",\"goeuro.pl\",\"goeuro.pt\",\"goeuro.rs\",\"goeuro.se\",\"goeuro.si\",\"goeuro.sk\",\"goeuro.tr\",\"goeuro.us\",\"ru.goeuro.com\",\"omio.co.uk\",\"omio.com.ua\",\"cz.omio.com\",\"de.omio.com\",\"omio.dk\",\"omio.es\",\"omio.fi\",\"omio.fr\",\"hu.omio.com\",\"omio.it\",\"omio.nl\",\"omio.no\",\"pl.omio.com\",\"omio.pt\",\"omio.se\",\"tr.omio.com\",\"omio.ru\",\"omio.cn\",\"omio.com\",\"de.trainline.ch\",\"fr.trainline.ch\",\"it.trainline.ch\",\"thetrainline.com\",\"thetrainline-europe.com\",\"trainline.at\",\"trainline.ch\",\"trainline.cn\",\"trainline.com\",\"trainline.com.br\",\"trainline.com.pt\",\"trainline.cz\",\"trainline.de\",\"trainline.dk\",\"trainline.es\",\"trainline.eu\",\"trainline.fr\",\"trainline.it\",\"trainline.nl\",\"trainline.no\",\"trainline.pl\",\"trainline.se\"]\n",
    "#webgroup1 = [\"just-eat.co.uk\",\"just-eat.com\",\"menulog.com.au\",\"ifood.com.br\",\"just-eat.ca\",\"just-eat.dk\",\"just-eat.fr\",\"just-eat.ie\",\"justeat.it\",\"sindelantal.mx\",\"just-eat.no\",\"menulog.co.nz\",\"just-eat.es\",\"eat.ch\"]\n",
    "#webgroup1 = [\"skyscanner.net\",\"skyscanner.com\",\"skyscanner.fr\",\"skyscanner.it\",\"skyscanner.de\",\"skyscanner.es\",\"skyscanner.ru\",\"skyscanner.pl\",\"skyscanner.com.cn\",\"skyscanner.pt\",\"skyscanner.be\",\"skyscanner.cz\",\"skyscanner.at\",\"skyscanner.com.tr\",\"skyscanner.com.tw\"]\n",
    "#webgroup1 = [\"amtrakvacations.com\",\"virgintrainseastcoast.com\",\"verkehrsmittelvergleich.de\",\"raileurope-world.com\"]\n",
    "webgroup = [webgroup1[i:i+5] for i in range(0, len(webgroup1), 5)]\n",
    "#print(webgroup)\n",
    "\n",
    "# *NOTE*: to create the list of domains, can use Excel trick of =CONCATENATE(TRANSPOSE(B2:B493)) but highlight and press F9 on the transpose section before hitting Enter\n",
    "\n",
    "# testdomains = ['bahn.com','flixbus.de','trainline.de','raileurope.com','goeuro.de']\n",
    "# trainline1 = ['trainline.com','thetrainline-europe.com']\n",
    "# trainline2 = ['trainline.fr','trainline.it','trainline.es','trainline.de','trainline.eu']\n",
    "# goeuro1 = ['goeuro.co.uk','goeuro.de','goeuro.es','goeuro.fr','goeuro.it']\n",
    "# goeuro2 = ['goeuro.com','goeuro.be','goeuro.nl','goeuro.pt','goeuro.pl']"
   ]
  },
  {
   "cell_type": "code",
   "execution_count": null,
   "metadata": {
    "collapsed": true
   },
   "outputs": [],
   "source": []
  },
  {
   "cell_type": "code",
   "execution_count": 2,
   "metadata": {
    "collapsed": true
   },
   "outputs": [],
   "source": [
    "#need to update dates in url\n",
    "\n",
    "#url = 'https://pro.similarweb.com/widgetApi/WebsiteGeographyExtended/GeographyExtended/Excel?country=999&metric=GeographyExtended&includeSubDomains=true&webSource=null&timeGranularity=Monthly&to=2018%7C03%7C31&from=2018%7C01%7C01&isWindow=false&orderBy=TotalShare%20desc&keys=' \n",
    "#url = 'https://pro.similarweb.com/widgetApi/WebsiteGeographyExtended/GeographyExtended/Excel?country=999&metric=GeographyExtended&includeSubDomains=true&webSource=null&timeGranularity=Monthly&to=2018%7C03%7C31&from=2016%7C10%7C01&isWindow=false&orderBy=TotalShare%20desc&keys=' #last 18 months\n",
    "#url = 'https://pro.similarweb.com/widgetApi/WebsiteGeographyExtended/GeographyExtended/Excel?country=999&metric=GeographyExtended&includeSubDomains=true&webSource=null&timeGranularity=Monthly&to=2018%7C03%7C31&from=2016%7C10%7C01&isWindow=false&orderBy=TotalShare%20desc&keys=' #last 18 months\n",
    "#url = 'https://pro.similarweb.com/widgetApi/WebsiteGeographyExtended/GeographyExtended/Excel?country=999&metric=GeographyExtended&includeSubDomains=true&webSource=null&timeGranularity=Monthly&to=2018%7C04%7C30&from=2018%7C04%7C01&isWindow=false&orderBy=TotalShare%20desc&keys=' #last 1 month\n",
    "#url = 'https://pro.similarweb.com/widgetApi/WebsiteGeographyExtended/GeographyExtended/Excel?country=999&metric=GeographyExtended&includeSubDomains=true&webSource=null&timeGranularity=Monthly&to=2018%7C05%7C31&from=2018%7C05%7C01&isWindow=false&orderBy=TotalShare%20desc&keys='\n",
    "#url = 'https://pro.similarweb.com/widgetApi/WebsiteGeographyExtended/GeographyExtended/Excel?country=999&metric=GeographyExtended&includeSubDomains=true&webSource=null&timeGranularity=Monthly&to=2018%7C05%7C31&from=2018%7C05%7C01&isWindow=false&orderBy=TotalShare%20desc&keys=' #last 1 month\n",
    "#url = 'https://pro.similarweb.com/widgetApi/WebsiteGeographyExtended/GeographyExtended/Excel?country=999&metric=GeographyExtended&includeSubDomains=true&webSource=null&timeGranularity=Monthly&to=2018%7C05%7C31&from=2018%7C05%7C01&isWindow=false&orderBy=TotalShare%20desc&keys=' #last 1 month\n",
    "#url = 'https://pro.similarweb.com/widgetApi/WebsiteGeographyExtended/GeographyExtended/Excel?country=999&metric=GeographyExtended&includeSubDomains=true&webSource=null&timeGranularity=Monthly&to=2018%7C05%7C31&from=2016%7C12%7C01&isWindow=false&orderBy=TotalShare%20desc&keys=' #last 18 months\n",
    "#url = 'https://pro.similarweb.com/widgetApi/WebsiteGeographyExtended/GeographyExtended/Excel?country=999&metric=GeographyExtended&includeSubDomains=true&webSource=null&timeGranularity=Monthly&to=2018%7C05%7C31&from=2018%7C03%7C01&isWindow=false&orderBy=TotalShare%20desc&keys=' #last 3 months\n",
    "#url = 'https://pro.similarweb.com/widgetApi/WebsiteGeographyExtended/GeographyExtended/Excel?country=999&metric=GeographyExtended&includeSubDomains=true&webSource=null&timeGranularity=Monthly&to=2018%7C05%7C31&from=2016%7C12%7C01&isWindow=false&orderBy=TotalShare%20desc&keys=' #last 18 months\n",
    "#url = 'https://pro.similarweb.com/widgetApi/WebsiteGeographyExtended/GeographyExtended/Excel?country=999&metric=GeographyExtended&includeSubDomains=true&webSource=null&timeGranularity=Monthly&to=2018%7C06%7C30&from=2018%7C06%7C01&isWindow=false&orderBy=TotalShare%20desc&keys=' #last 1 month\n",
    "#url = 'https://pro.similarweb.com/widgetApi/WebsiteGeographyExtended/GeographyExtended/Excel?country=999&metric=GeographyExtended&includeSubDomains=true&webSource=Desktop&timeGranularity=Monthly&to=2018%7C06%7C30&from=2018%7C06%7C01&isWindow=false&orderBy=TotalShare%20desc&keys=' #last 1 month\n",
    "#url = 'https://pro.similarweb.com/widgetApi/WebsiteGeographyExtended/GeographyExtended/Excel?country=999&metric=GeographyExtended&includeSubDomains=true&webSource=Desktop&timeGranularity=Monthly&to=2018%7C09%7C30&from=2018%7C09%7C01&isWindow=false&orderBy=TotalShare%20desc&keys='\n",
    "#url = 'https://pro.similarweb.com/widgetApi/WebsiteGeographyExtended/GeographyExtended/Excel?country=999&metric=GeographyExtended&includeSubDomains=true&webSource=Desktop&timeGranularity=Monthly&to=2018%7C09%7C30&from=2017%7C04%7C01&isWindow=false&orderBy=TotalShare%20desc&keys=' #last 18 months\n",
    "#url = 'https://pro.similarweb.com/widgetApi/WebsiteGeographyExtended/GeographyExtended/Excel?country=999&metric=GeographyExtended&includeSubDomains=true&webSource=Desktop&timeGranularity=Monthly&to=2018%7C10%7C31&from=2017%7C05%7C01&isWindow=false&orderBy=TotalShare%20desc&keys=' #last 18 months\n",
    "#url = 'https://pro.similarweb.com/widgetApi/WebsiteGeographyExtended/GeographyExtended/Excel?country=999&metric=GeographyExtended&includeSubDomains=true&webSource=Desktop&timeGranularity=Monthly&to=2018%7C10%7C31&from=2018%7C10%7C01&isWindow=false&orderBy=TotalShare%20desc&keys=' #last 1 month\n",
    "#url = 'https://pro.similarweb.com/widgetApi/WebsiteGeographyExtended/GeographyExtended/Excel?country=999&metric=GeographyExtended&includeSubDomains=true&webSource=Desktop&timeGranularity=Monthly&to=2018%7C11%7C30&from=2018%7C11%7C01&isWindow=false&orderBy=TotalShare%20desc&keys='\n",
    "#url = 'https://pro.similarweb.com/widgetApi/WebsiteGeographyExtended/GeographyExtended/Excel?country=999&metric=GeographyExtended&includeSubDomains=true&webSource=Desktop&timeGranularity=Monthly&to=2018%7C12%7C31&from=2018%7C12%7C01&isWindow=false&orderBy=TotalShare%20desc&keys=' #last 1 month\n",
    "#url = 'https://pro.similarweb.com/widgetApi/WebsiteGeographyExtended/GeographyExtended/Excel?country=999&includeSubDomains=true&webSource=Desktop&timeGranularity=Monthly&to=2019%7C01%7C31&from=2019%7C01%7C01&isWindow=false&orderBy=TotalShare%20desc&keys='\n",
    "#url = 'https://pro.similarweb.com/widgetApi/WebsiteGeographyExtended/GeographyExtended/Excel?country=999&includeSubDomains=true&webSource=Desktop&timeGranularity=Monthly&to=2019%7C02%7C28&from=2017%7C09%7C01&orderBy=TotalShare%20desc&keys=' #18 months\n",
    "url = 'https://pro.similarweb.com/widgetApi/WebsiteGeographyExtended/GeographyExtended/Excel?country=999&includeSubDomains=true&webSource=Desktop&timeGranularity=Monthly&to=2019%7C02%7C28&from=2017%7C09%7C01&orderBy=TotalShare%20desc&keys=' #18 months\n",
    "\n",
    "#creates and opens the dowload urls\n",
    "for group in webgroup:\n",
    "    currenturl = url\n",
    "    end = '%2C'.join(group)\n",
    "    currenturl += end\n",
    "    #print(currenturl)\n",
    "    webbrowser.open_new(currenturl)"
   ]
  },
  {
   "cell_type": "code",
   "execution_count": null,
   "metadata": {
    "collapsed": true
   },
   "outputs": [],
   "source": []
  },
  {
   "cell_type": "code",
   "execution_count": 5,
   "metadata": {},
   "outputs": [
    {
     "name": "stdout",
     "output_type": "stream",
     "text": [
      "done\n"
     ]
    }
   ],
   "source": [
    "#if output file exists, delete it\n",
    "out_file = os.path.join('documents','test_folder', 'SW_Visits_by_country_data.xlsx')\n",
    "if os.path.exists(out_file):\n",
    "    os.remove(out_file)\n",
    "\n",
    "#find all .xlsx files with \"EngagementOverview\" in the downloads folder\n",
    "all_data = pd.DataFrame()\n",
    "datapath = os.path.join(\"downloads\",\"GeographyExtended*.xlsx\")\n",
    "\n",
    "#load each file and find the sheet names\n",
    "for file in glob.glob(datapath):\n",
    "    df = pd.ExcelFile(file) #,on_demand = True\n",
    "    sheetnames = df.sheet_names\n",
    "    #print(sheetnames)    \n",
    "\n",
    "#create a column called Domain in each sheet and populate it with the sheetname, which is the name of the domain\n",
    "    for sheetname in sheetnames[2:7]:\n",
    "        sheet = df.parse(sheetname)\n",
    "        try: \n",
    "            if sheet.columns.str.contains(\"No data available\"): #remove tabs for domains where no data was available\n",
    "                #print(sheet.columns.str.contains(\"No data available\"))\n",
    "                continue\n",
    "        except:\n",
    "            sheet['Domain'] = sheetname[13:]\n",
    "            sheet.rename(columns={'Date':'date'}, inplace=True) #change Date column name to date to match merge key\n",
    "            #sheet['date'] = sheet['date'].astype('datetime64[ns]')\n",
    "            all_data = pd.concat([all_data, sheet], axis = 0) #add the data from each modified sheet to the bottom of the all_data dataframe\n",
    "\n",
    "all_data.rename(columns={'Time Period':'date'}, inplace=True)\n",
    "\n",
    "def month_m(date):\n",
    "    #month_m = date.strftime(\"%m\")\n",
    "    month_m = date.month\n",
    "    return month_m\n",
    "\n",
    "def month_mmm(date):\n",
    "    month_mmm = date.strftime(\"%b\")\n",
    "    return month_mmm\n",
    "\n",
    "def year_yyyy(date):\n",
    "    #year_yyyy = date.strftime(\"%Y\")\n",
    "    year_yyyy = date.year\n",
    "    return year_yyyy\n",
    "\n",
    "all_data['Month'] = all_data['date'].apply(month_m)\n",
    "all_data['Month_mmm'] = all_data['date'].apply(month_mmm).astype(str)\n",
    "all_data['Year'] = all_data['date'].apply(year_yyyy)\n",
    "\n",
    "#Add a simple company name for the ones we care about\n",
    "all_data['Company'] = all_data['Domain'].apply(lambda x: 'skyscanner' if 'skyscanner' in x \n",
    "                                               else ('goeuro' if 'goeuro' in x  \n",
    "                                               else ('trainline' if 'trainline' in x \n",
    "                                               else ('NRE' if 'nationalrail' in x \n",
    "                                               else ('expedia' if 'expedia' in x \n",
    "                                               else ('flixbus' if 'flixbus' in x \n",
    "                                               else ('raileurope' if 'raileurope' in x\n",
    "                                               else ('sncf' if 'sncf' in x\n",
    "                                               else ('sncf' if 'ouigo' in x\n",
    "                                               else('justeat' if 'just-eat' in x\n",
    "                                               else('justeat' if 'menulog' in x\n",
    "                                               else('justeat' if 'justeat' in x\n",
    "                                               else('justeat' if 'sindelantal' in x\n",
    "                                               else('justeat' if 'ifood' in x\n",
    "                                               else('justeat' if 'eat.ch' in x\n",
    "                                               else('trenitalia' if 'trenitalia' in x\n",
    "                                               else('DB' if 'bahn' in x\n",
    "                                               else('renfe' if 'renfe' in x\n",
    "                                               else('loco2' if 'loco2' in x\n",
    "                                               else('virgin' if 'virgintrains.co.uk' in x\n",
    "                                               else('lner' if 'lner' in x\n",
    "                                               else('northern' if 'northernrailway' in x\n",
    "                                               else('XC' if 'crosscountry' in x\n",
    "                                               else('EMT' if 'eastmid' in x\n",
    "                                               else('TPE' if 'tpe' in x\n",
    "                                               else('GA' if 'greateranglia' in x\n",
    "                                               else('SWR' if 'southwesternrailway' in x\n",
    "                                               else('TFW' if 'tfw' in x\n",
    "                                               else('rome2rio' if 'rome2rio' in x\n",
    "                                               else('seat61' if 'seat61' in x\n",
    "                                               else('goeuro' if 'omio' in x\n",
    "                                               else 'Other')))))))))))))))))))))))))))))))\n",
    "\n",
    "\n",
    "\n",
    "#Add a column to categorize countries we don't care about into \"Other\"\n",
    "countrylist = [\"France\",\"Italy\",\"Germany\",\"Spain\", \"United Kingdom\",\"Poland\",\"United States\",\"Russia\", \"Netherlands\",\n",
    "               \"Belgium\",\"Portugal\",\"Brazil\",\"Sweden\",\"China\", \"Norway\",\"Denmark\",\"Czech Republic\",\"Japan\",\"Korea, Republic of\",\n",
    "               \"Australia\",\"Canada\",\"Ireland\",\"India\"]\n",
    "\n",
    "all_data['Country category'] = all_data['Country'].apply(lambda x: x if x in(countrylist) else 'Other')\n",
    "\n",
    "#Fix any cut off domain names\n",
    "di = {\"amtrakvacations.co\":\"amtrakvacations.com\"\n",
    "      ,\"great-western-trai\":\"great-western-trains.co.uk\"\n",
    "      ,\"raileurope-japan.c\":\"raileurope-japan.com\"\n",
    "      ,\"raileurope-world.c\":\"raileurope-world.com\"\n",
    "      ,\"redspottedhanky.co\":\"redspottedhanky.com\"\n",
    "      ,\"splityourticket.co\":\"splityourticket.co.uk\"\n",
    "      ,\"thetrainline-europ\":\"thetrainline-europe.com\"\n",
    "      ,\"verkehrsmittelverg\":\"verkehrsmittelvergleich.de\"\n",
    "      ,\"virgintrainseastco\":\"virgintrainseastcoast.com\"\n",
    "      ,\"raileurope-asean.c\":\"raileurope-asean.com\"\n",
    "      ,\"crosscountrytrains\":\"crosscountrytrains.co.uk\"\n",
    "      ,\"eastmidlandstrains\":\"eastmidlandstrains.co.uk\"\n",
    "      ,\"greateranglia.co.u\":\"greateranglia.co.uk\"\n",
    "      ,\"northernrailway.co\":\"northernrailway.co.uk\"\n",
    "      ,\"southernrailway.co\":\"southernrailway.com\"\n",
    "      ,\"southwesternrailwa\":\"southwesternrailway.com\"}\n",
    "all_data[\"Domain\"].replace(di,inplace=True)\n",
    "\n",
    "\n",
    "\n",
    "# #write the dataframe to an Excel output file and save\n",
    "# writer = pd.ExcelWriter(out_file, engine='xlsxwriter')\n",
    "# all_data.to_excel(writer, 'Sheet1')\n",
    "# writer.save()\n",
    "\n",
    "print(\"done\")"
   ]
  },
  {
   "cell_type": "code",
   "execution_count": null,
   "metadata": {
    "collapsed": true
   },
   "outputs": [],
   "source": []
  },
  {
   "cell_type": "markdown",
   "metadata": {},
   "source": [
    "Bring in the monthly totals from the monthly data pull to calculate monthly web visits by IP country and MAUs by IP country"
   ]
  },
  {
   "cell_type": "code",
   "execution_count": 6,
   "metadata": {},
   "outputs": [
    {
     "name": "stdout",
     "output_type": "stream",
     "text": [
      "Domains with no match:  []\n"
     ]
    }
   ],
   "source": [
    "#bring in the monthly totals from the recent monthly data pull\n",
    "monthpath = os.path.join('documents','test_folder','SW_Visits_Data_Monthly.xlsx')\n",
    "monthlytotals = pd.read_excel(monthpath)\n",
    "with_monthly_totals = pd.merge(all_data, monthlytotals[['date','Visits','Domain','Unique Visitors']], how='left', left_on=['date','Domain'], right_on = ['date','Domain'])\n",
    "\n",
    "\n",
    "#Fill any \"<5000\" str values with \"0\"\n",
    "with_monthly_totals[\"Visits\"].replace(\"<5000\",int(0), inplace=True)\n",
    "\n",
    "#Calculate monthly web visits by IP country by multiplying traffic share per country by monthly domain total page views, do the same for MAUs\n",
    "with_monthly_totals['Web visits by country'] = with_monthly_totals['Traffic Share']*with_monthly_totals['Visits']\n",
    "with_monthly_totals['MAUs est by country'] = with_monthly_totals['Traffic Share']*with_monthly_totals['Unique Visitors']\n",
    "\n",
    "    \n",
    "#show domains which could not be matched with a total visits count (because the domain string has been cut off)\n",
    "nomatchi = np.where(pd.isnull(with_monthly_totals['Web visits by country']))\n",
    "nomatch = np.unique(with_monthly_totals['Domain'].iloc[nomatchi])\n",
    "print(\"Domains with no match: \", + nomatch)\n",
    "\n",
    "\n",
    "# NOTE: this section takes a few seconds to run"
   ]
  },
  {
   "cell_type": "code",
   "execution_count": null,
   "metadata": {
    "collapsed": true
   },
   "outputs": [],
   "source": []
  },
  {
   "cell_type": "code",
   "execution_count": 7,
   "metadata": {},
   "outputs": [
    {
     "name": "stdout",
     "output_type": "stream",
     "text": [
      "done\n"
     ]
    }
   ],
   "source": [
    "#write the dataframe to an Excel output file and save\n",
    "writer = pd.ExcelWriter(out_file, engine='xlsxwriter')\n",
    "with_monthly_totals.to_excel(writer, 'Sheet1')\n",
    "writer.save()\n",
    "\n",
    "print(\"done\")\n",
    "\n",
    "# NOTE: this section also takes a few seconds to run"
   ]
  },
  {
   "cell_type": "code",
   "execution_count": null,
   "metadata": {
    "collapsed": true
   },
   "outputs": [],
   "source": []
  },
  {
   "cell_type": "code",
   "execution_count": 21,
   "metadata": {},
   "outputs": [
    {
     "data": {
      "text/plain": [
       "array(['Nov'], dtype=object)"
      ]
     },
     "execution_count": 21,
     "metadata": {},
     "output_type": "execute_result"
    }
   ],
   "source": [
    "all_data.Month_mmm.unique()"
   ]
  }
 ],
 "metadata": {
  "kernelspec": {
   "display_name": "Python 3",
   "language": "python",
   "name": "python3"
  },
  "language_info": {
   "codemirror_mode": {
    "name": "ipython",
    "version": 3
   },
   "file_extension": ".py",
   "mimetype": "text/x-python",
   "name": "python",
   "nbconvert_exporter": "python",
   "pygments_lexer": "ipython3",
   "version": "3.6.3"
  }
 },
 "nbformat": 4,
 "nbformat_minor": 2
}

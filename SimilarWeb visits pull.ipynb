{
 "cells": [
  {
   "cell_type": "code",
   "execution_count": 1,
   "metadata": {
    "collapsed": true
   },
   "outputs": [],
   "source": [
    "import webbrowser\n",
    "import pandas as pd\n",
    "import numpy as np\n",
    "import os\n",
    "import datetime\n",
    "import glob\n",
    "import xlsxwriter\n",
    "\n",
    "#Note: need to log in to SimilarWeb Pro in browser before running\n",
    "#accesses SimilarWeb urls for the domains of interest which download the last 28 days of daily SimilarWeb visits data\n",
    "#creates a list of lists with length 5\n",
    "#webgroup2 = [['bahn.com'],['bahn.de','blablacar.es'],['busliniensuche.de']]\n",
    "webgroup1 = [\"amtrak.com\",\"amtrakvacations.com\",\"bahn.com\",\"bahn.de\",\"blablacar.es\",\"busliniensuche.de\",\"capitainetrain.com\",\"captaintrain.com\",\"checkmybus.de\",\"deutschebahn.com\",\"eurail.com\",\"eurorailways.com\",\"eurotunnel.com\",\"expedia.co.uk\",\"expedia.com\",\"flixbus.at\",\"flixbus.co.uk\",\"flixbus.com\",\"flixbus.de\",\"flixbus.es\",\"flixbus.fr\",\"flixbus.it\",\"flixbus.nl\",\"fromatob.de\",\"goeuro.ad\",\"goeuro.al\",\"goeuro.au\",\"goeuro.ba\",\"goeuro.be\",\"goeuro.bg\",\"goeuro.by\",\"goeuro.co.uk\",\"goeuro.com\",\"cn.goeuro.com\",\"goeuro.cz\",\"goeuro.de\",\"goeuro.ee\",\"goeuro.es\",\"goeuro.eu\",\"goeuro.fi\",\"goeuro.fr\",\"goeuro.gb\",\"goeuro.gg\",\"goeuro.gr\",\"goeuro.hr\",\"goeuro.hu\",\"goeuro.im\",\"goeuro.is\",\"goeuro.it\",\"goeuro.je\",\"goeuro.lu\",\"goeuro.nl\",\"goeuro.no\",\"goeuro.pl\",\"goeuro.pt\",\"goeuro.rs\",\"ru.goeuro.com\",\"goeuro.se\",\"goeuro.si\",\"goeuro.sk\",\"goeuro.tr\",\"goeuro.us\",\"great-western-trains.co.uk\",\"gwr.com\",\"italiarail.com\",\"italotreno.it\",\"loco2.com\",\"ltur.de\",\"nationalrail.co.uk\",\"ouigo.com\",\"oui.sncf\",\"raileurope.com\",\"raileurope.fr\",\"raileurope-japan.com\",\"raileurope-world.com\",\"redspottedhanky.com\",\"renfe.com\",\"renfe.es\",\"rome2rio.com\",\"skyscanner.net\",\"skyscanner.com\",\"skyscanner.fr\",\"skyscanner.it\",\"skyscanner.de\",\"skyscanner.es\",\"skyscanner.ru\",\"skyscanner.pl\",\"skyscanner.com.cn\",\"skyscanner.pt\",\"skyscanner.be\",\"skyscanner.cz\",\"skyscanner.at\",\"skyscanner.com.tw\",\"skyscanner.com.tr\",\"sncf.com\",\"splityourticket.co.uk\",\"thetrainline.com\",\"thetrainline-europe.com\",\"ticketclever.com\",\"traingenius.com\",\"trainline.cn\",\"trainline.com\",\"trainline.de\",\"trainline.es\",\"trainline.eu\",\"trainline.fr\",\"trainline.it\",\"trainline.se\",\"trainline.pl\",\"transilien.com\",\"trenit.info\",\"trenitalia.com\",\"verkehrsmittelvergleich.de\",\"virail.it\",\"virgintrains.co.uk\",\"virgintrainseastcoast.com\",\"voyages-sncf.com\",\"voyages-sncf.de\",\"voyages-sncf.fr\",\"wanderu.com\",\"trainline.cz\",\"trainline.com.pt\",\"trainline.no\",\"trainline.nl\",\"trainline.dk\",\"trainline.com.br\",\"trainline.ch\",\"trainline.at\",\"it.trainline.ch\",\"de.trainline.ch\",\"fr.trainline.ch\",\"goeuro.at\",\"goeuro.dk\",\"goeuro.ch\",\"skyscanner.nl\",\"skyscanner.ch\",\"skyscanner.at\",\"de.oui.sncf\",\"flixtrain.com\",\"goeuro.com.tr\",\"just-eat.co.uk\",\"just-eat.com\",\"menulog.com.au\",\"ifood.com.br\",\"just-eat.ca\",\"just-eat.dk\",\"just-eat.fr\",\"just-eat.ie\",\"justeat.it\",\"sindelantal.mx\",\"just-eat.no\",\"menulog.co.nz\",\"just-eat.es\",\"eat.ch\",\"raileurope.com.au\",\"raileurope-asean.com\",\"raileurope.ca\",\"raileurope.cn\",\"raileurope.co.in\",\"raileurope.co.nz\",\"raileurope.ru\",\"raileurope.co.za\",\"raileurope.co.kr\",\"raileurope-gcc.com\"]\n",
    "#webgroup1 = [\"skyscanner.net\",\"skyscanner.com\",\"skyscanner.fr\",\"skyscanner.it\",\"skyscanner.de\",\"skyscanner.es\",\"skyscanner.ru\",\"skyscanner.pl\",\"skyscanner.com.cn\",\"skyscanner.pt\",\"skyscanner.be\",\"skyscanner.cz\",\"skyscanner.at\",\"skyscanner.com.tr\",\"skyscanner.com.tw\"]\n",
    "#webgroup1 = [\"raileurope.com.au\",\"raileurope-asean.com\",\"raileurope.ca\",\"raileurope.cn\",\"raileurope.co.in\",\"raileurope.co.nz\",\"raileurope.ru\",\"raileurope.co.za\",\"raileurope.co.kr\",\"raileurope-gcc.com\"]\n",
    "webgroup = [webgroup1[i:i+5] for i in range(0, len(webgroup1), 5)]\n",
    "#print(webgroup)\n",
    "\n",
    "# *NOTE*: to create the list of domains, can use Excel trick of =CONCATENATE(TRANSPOSE(B2:B493)) but highlight and press F9 on the transpose section before hitting Enter\n",
    "\n",
    "# testdomains = ['bahn.com','flixbus.de','trainline.de','raileurope.com','goeuro.de']\n",
    "# trainline1 = ['trainline.com','thetrainline-europe.com']\n",
    "# trainline2 = ['trainline.fr','trainline.it','trainline.es','trainline.de','trainline.eu']\n",
    "# goeuro1 = ['goeuro.co.uk','goeuro.de','goeuro.es','goeuro.fr','goeuro.it']\n",
    "# goeuro2 = ['goeuro.com','goeuro.be','goeuro.nl','goeuro.pt','goeuro.pl']"
   ]
  },
  {
   "cell_type": "code",
   "execution_count": null,
   "metadata": {
    "collapsed": true
   },
   "outputs": [],
   "source": []
  },
  {
   "cell_type": "code",
   "execution_count": null,
   "metadata": {
    "collapsed": true
   },
   "outputs": [],
   "source": []
  },
  {
   "cell_type": "markdown",
   "metadata": {},
   "source": [
    "To download from SW:"
   ]
  },
  {
   "cell_type": "code",
   "execution_count": 2,
   "metadata": {
    "collapsed": true
   },
   "outputs": [],
   "source": [
    "#need to update dates in url\n",
    "\n",
    "#url = 'https://pro.similarweb.com/widgetApi/TrafficAndEngagement/EngagementVisits/Excel?country=999&metric=EngagementOverview&includeSubDomains=true&webSource=Total&timeGranularity=Daily&to=2018%7C04%7C29&from=2018%7C04%7C02&isWindow=true&ShouldGetVerifiedData=true&keys='\n",
    "#url = 'https://pro.similarweb.com/widgetApi/TrafficAndEngagement/EngagementVisits/Excel?country=999&metric=EngagementOverview&includeSubDomains=true&webSource=Total&timeGranularity=Daily&to=2018%7C05%7C05&from=2018%7C04%7C08&isWindow=true&ShouldGetVerifiedData=true&keys='\n",
    "#url = 'https://pro.similarweb.com/widgetApi/TrafficAndEngagement/EngagementVisits/Excel?country=999&metric=EngagementOverview&includeSubDomains=true&webSource=Total&timeGranularity=Daily&to=2018%7C05%7C28&from=2018%7C05%7C01&isWindow=true&ShouldGetVerifiedData=true&keys=' #last 28 days\n",
    "#url = 'https://pro.similarweb.com/widgetApi/TrafficAndEngagement/EngagementVisits/Excel?country=999&metric=EngagementOverview&includeSubDomains=true&webSource=Total&timeGranularity=Daily&to=2018%7C05%7C31&from=2018%7C05%7C04&isWindow=true&ShouldGetVerifiedData=true&keys=' #last 28 days\n",
    "#url = 'https://pro.similarweb.com/widgetApi/TrafficAndEngagement/EngagementVisits/Excel?country=999&metric=EngagementOverview&includeSubDomains=true&webSource=Total&timeGranularity=Daily&to=2018%7C06%7C05&from=2018%7C05%7C09&isWindow=true&ShouldGetVerifiedData=true&keys='\n",
    "#url = 'https://pro.similarweb.com/widgetApi/TrafficAndEngagement/EngagementVisits/Excel?country=999&metric=EngagementOverview&includeSubDomains=true&webSource=Total&timeGranularity=Daily&to=2018%7C06%7C09&from=2018%7C05%7C13&isWindow=true&ShouldGetVerifiedData=true&keys=' #last 28 days\n",
    "#url = 'https://pro.similarweb.com/widgetApi/TrafficAndEngagement/EngagementVisits/Excel?country=999&metric=EngagementOverview&includeSubDomains=true&webSource=Total&timeGranularity=Daily&to=2018%7C06%7C21&from=2018%7C05%7C25&isWindow=true&ShouldGetVerifiedData=true&keys=' #last 28 days\n",
    "#url = 'https://pro.similarweb.com/widgetApi/TrafficAndEngagement/EngagementVisits/Excel?country=999&metric=EngagementOverview&includeSubDomains=true&webSource=Total&timeGranularity=Daily&to=2018%7C05%7C31&from=2016%7C12%7C01&isWindow=false&ShouldGetVerifiedData=true&keys=' #last 18 months\n",
    "#url = 'https://pro.similarweb.com/widgetApi/TrafficAndEngagement/EngagementVisits/Excel?country=999&metric=EngagementOverview&includeSubDomains=true&webSource=Total&timeGranularity=Daily&to=2018%7C07%7C06&from=2018%7C06%7C09&isWindow=true&ShouldGetVerifiedData=true&keys=' #last 28 days\n",
    "#url = 'https://pro.similarweb.com/widgetApi/TrafficAndEngagement/EngagementVisits/Excel?country=999&metric=EngagementOverview&includeSubDomains=true&webSource=Total&timeGranularity=Daily&to=2018%7C06%7C30&from=2018%7C06%7C01&isWindow=false&ShouldGetVerifiedData=true&keys=' #last 1 month\n",
    "#url = 'https://pro.similarweb.com/widgetApi/TrafficAndEngagement/EngagementVisits/Excel?country=999&metric=EngagementOverview&includeSubDomains=true&webSource=Total&timeGranularity=Daily&to=2018%7C07%7C14&from=2018%7C06%7C17&isWindow=true&ShouldGetVerifiedData=false&keys=' #last 28 days\n",
    "#url = 'https://pro.similarweb.com/widgetApi/TrafficAndEngagement/EngagementVisits/Excel?country=999&metric=EngagementOverview&includeSubDomains=true&webSource=Total&timeGranularity=Daily&to=2018%7C06%7C30&from=2017%7C07%7C01&isWindow=false&ShouldGetVerifiedData=false&keys=' #last 12 months\n",
    "#url = 'https://pro.similarweb.com/widgetApi/TrafficAndEngagement/EngagementVisits/Excel?country=999&metric=EngagementOverview&includeSubDomains=true&webSource=Total&timeGranularity=Daily&to=2018%7C07%7C14&from=2018%7C06%7C17&isWindow=true&ShouldGetVerifiedData=false&keys='\n",
    "#url = 'https://pro.similarweb.com/widgetApi/TrafficAndEngagement/EngagementVisits/Excel?country=999&metric=EngagementOverview&includeSubDomains=true&webSource=Total&timeGranularity=Daily&to=2018%7C06%7C30&from=2018%7C01%7C01&isWindow=false&ShouldGetVerifiedData=true&keys='\n",
    "#url = 'https://pro.similarweb.com/widgetApi/TrafficAndEngagement/EngagementVisits/Excel?country=999&metric=EngagementOverview&includeSubDomains=true&webSource=Total&timeGranularity=Daily&to=2018%7C06%7C30&from=2018%7C06%7C01&isWindow=false&ShouldGetVerifiedData=true&keys=' #last 1 month with GA data on\n",
    "#url = 'https://pro.similarweb.com/widgetApi/TrafficAndEngagement/EngagementVisits/Excel?country=999&metric=EngagementOverview&includeSubDomains=true&webSource=Total&timeGranularity=Daily&to=2018%7C07%7C31&from=2018%7C07%7C01&isWindow=false&ShouldGetVerifiedData=true&keys=' #last 1 month with GA data on\n",
    "#url = 'https://pro.similarweb.com/widgetApi/TrafficAndEngagement/EngagementVisits/Excel?country=999&metric=EngagementOverview&includeSubDomains=true&webSource=Total&timeGranularity=Daily&to=2018%7C08%7C04&from=2018%7C07%7C08&isWindow=true&ShouldGetVerifiedData=true&keys=' #last 28 days\n",
    "#url = 'https://pro.similarweb.com/widgetApi/TrafficAndEngagement/EngagementVisits/Excel?country=999&metric=EngagementOverview&includeSubDomains=true&webSource=Total&timeGranularity=Daily&to=2018%7C08%7C21&from=2018%7C07%7C25&isWindow=true&ShouldGetVerifiedData=true&keys='\n",
    "#url = 'https://pro.similarweb.com/widgetApi/TrafficAndEngagement/EngagementVisits/Excel?country=999&metric=EngagementOverview&includeSubDomains=true&webSource=Total&timeGranularity=Daily&to=2018%7C09%7C01&from=2018%7C08%7C05&isWindow=true&ShouldGetVerifiedData=true&keys=' #last 28 days\n",
    "#url = 'https://pro.similarweb.com/widgetApi/TrafficAndEngagement/EngagementVisits/Excel?country=999&metric=EngagementOverview&includeSubDomains=true&webSource=Total&timeGranularity=Daily&to=2018%7C09%7C30&from=2018%7C09%7C01&isWindow=false&ShouldGetVerifiedData=true&keys=' #last 1 month\n",
    "#url = 'https://pro.similarweb.com/widgetApi/TrafficAndEngagement/EngagementVisits/Excel?country=999&metric=EngagementOverview&includeSubDomains=true&webSource=Total&timeGranularity=Daily&to=2018%7C09%7C30&from=2017%7C04%7C01&isWindow=false&ShouldGetVerifiedData=true&keys=' #last 18 months\n",
    "#url = 'https://pro.similarweb.com/widgetApi/TrafficAndEngagement/EngagementVisits/Excel?country=999&metric=EngagementOverview&includeSubDomains=true&webSource=Total&timeGranularity=Daily&to=2018%7C10%7C27&from=2018%7C09%7C30&isWindow=true&ShouldGetVerifiedData=true&keys=' #last 28 days\n",
    "#url = 'https://pro.similarweb.com/widgetApi/TrafficAndEngagement/EngagementVisits/Excel?country=999&metric=EngagementOverview&includeSubDomains=true&webSource=Total&timeGranularity=Daily&to=2018%7C10%7C31&from=2018%7C10%7C01&isWindow=false&ShouldGetVerifiedData=true&keys=' #last 1 month\n",
    "#url = 'https://pro.similarweb.com/widgetApi/TrafficAndEngagement/EngagementVisits/Excel?country=999&metric=EngagementOverview&includeSubDomains=true&webSource=Total&timeGranularity=Daily&to=2018%7C10%7C31&from=2017%7C05%7C01&isWindow=false&ShouldGetVerifiedData=true&keys=' #last 18 months\n",
    "#url = 'https://pro.similarweb.com/widgetApi/TrafficAndEngagement/EngagementVisits/Excel?country=999&metric=EngagementOverview&includeSubDomains=true&webSource=Total&timeGranularity=Daily&to=2018%7C11%7C30&from=2018%7C11%7C01&isWindow=false&ShouldGetVerifiedData=true&keys=' #last 1 month\n",
    "#url ='https://pro.similarweb.com/widgetApi/TrafficAndEngagement/EngagementVisits/Excel?country=999&metric=EngagementOverview&includeSubDomains=true&webSource=Total&timeGranularity=Daily&to=2018%7C11%7C30&from=2018%7C09%7C01&isWindow=false&ShouldGetVerifiedData=true&keys='\n",
    "url = 'https://pro.similarweb.com/widgetApi/TrafficAndEngagement/EngagementVisits/Excel?country=999&metric=EngagementOverview&includeSubDomains=true&webSource=Total&timeGranularity=Daily&to=2018%7C12%7C31&from=2018%7C12%7C01&isWindow=false&ShouldGetVerifiedData=false&keys=' #last 1 month\n",
    "\n",
    "#creates and opens the dowload urls\n",
    "for group in webgroup:\n",
    "    currenturl = url\n",
    "    end = '%2C'.join(group)\n",
    "    currenturl += end\n",
    "    #print(currenturl)\n",
    "    webbrowser.open_new(currenturl)"
   ]
  },
  {
   "cell_type": "code",
   "execution_count": null,
   "metadata": {
    "collapsed": true
   },
   "outputs": [],
   "source": []
  },
  {
   "cell_type": "markdown",
   "metadata": {},
   "source": [
    "To move visits downloaded data to useable file:"
   ]
  },
  {
   "cell_type": "code",
   "execution_count": 3,
   "metadata": {},
   "outputs": [
    {
     "name": "stdout",
     "output_type": "stream",
     "text": [
      "Domains with no assigned target market:  []\n"
     ]
    }
   ],
   "source": [
    "#if output file exists, delete it\n",
    "out_file = os.path.join('documents','test_folder', 'SW_Visits_Data.xlsx')\n",
    "if os.path.exists(out_file):\n",
    "    os.remove(out_file)\n",
    "\n",
    "#find all .xlsx files with \"EngagementOverview\" in the downloads folder\n",
    "all_data = pd.DataFrame()\n",
    "datapath = os.path.join(\"downloads\",\"EngagementOverview*.xlsx\")\n",
    "\n",
    "#load each file and find the sheet names\n",
    "for file in glob.glob(datapath):\n",
    "    df = pd.ExcelFile(file) #,on_demand = True\n",
    "    sheetnames = df.sheet_names\n",
    "    #print(sheetnames)    \n",
    "\n",
    "#create a column called Domain in each sheet and populate it with the sheetname, which is the name of the domain\n",
    "    for sheetname in sheetnames[2:7]:\n",
    "        sheet = df.parse(sheetname)\n",
    "        try: \n",
    "            if sheet.columns.str.contains(\"No data available\"): #remove tabs for domains where no data was available\n",
    "                #print(sheet.columns.str.contains(\"No data available\"))\n",
    "                continue\n",
    "        except:\n",
    "            sheet['Domain'] = sheetname\n",
    "            sheet.rename(columns={'Date':'date'}, inplace=True) #change Date column name to date to match merge key\n",
    "            sheet['date'] = sheet['date'].astype('datetime64[ns]')\n",
    "            all_data = pd.concat([all_data, sheet], axis = 0) #add the data from each modified sheet to the bottom of the all_data dataframe\n",
    "\n",
    "#add the Main Target Market column from the markets file\n",
    "markpath = os.path.join('desktop','markets.xlsx')\n",
    "markets = pd.read_excel(markpath)\n",
    "with_markets = pd.merge(all_data, markets, how=\"left\",on=\"Domain\")\n",
    "\n",
    "#show domains which have no target market assigned\n",
    "nomarketi = np.where(pd.isnull(with_markets['Main Target Market']))\n",
    "nomarket = np.unique(with_markets['Domain'].iloc[nomarketi])\n",
    "print(\"Domains with no assigned target market: \", + nomarket)\n",
    "\n",
    "# add FY_Name, Week, FY and week_name from calendar file\n",
    "calpath = os.path.join('desktop','calendar.xlsx')\n",
    "calendar = pd.read_excel(calpath)\n",
    "calendar['date'] = calendar['date'].astype('datetime64[ns]')\n",
    "with_dates = pd.merge(with_markets, calendar, how=\"left\",on=\"date\")\n",
    "\n",
    "#write the dataframe to an Excel output file and save\n",
    "writer = pd.ExcelWriter(out_file, engine='xlsxwriter')\n",
    "with_dates.to_excel(writer, 'Sheet1')\n",
    "writer.save()"
   ]
  },
  {
   "cell_type": "code",
   "execution_count": null,
   "metadata": {
    "collapsed": true
   },
   "outputs": [],
   "source": []
  }
 ],
 "metadata": {
  "kernelspec": {
   "display_name": "Python 3",
   "language": "python",
   "name": "python3"
  },
  "language_info": {
   "codemirror_mode": {
    "name": "ipython",
    "version": 3
   },
   "file_extension": ".py",
   "mimetype": "text/x-python",
   "name": "python",
   "nbconvert_exporter": "python",
   "pygments_lexer": "ipython3",
   "version": "3.6.3"
  }
 },
 "nbformat": 4,
 "nbformat_minor": 2
}
